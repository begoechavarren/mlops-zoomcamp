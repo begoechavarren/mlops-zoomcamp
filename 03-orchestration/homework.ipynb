{
 "cells": [
  {
   "cell_type": "markdown",
   "metadata": {},
   "source": [
    "# 03-orchestration: Homework\n",
    "\n",
    "The goal of this homework is to train a simple model for predicting the duration of a ride, but use Mage for it.\n",
    "\n",
    "We'll use [the same NYC taxi dataset](https://www1.nyc.gov/site/tlc/about/tlc-trip-record-data.page), the **Yellow** taxi data for 2023. "
   ]
  },
  {
   "cell_type": "markdown",
   "metadata": {},
   "source": [
    "<img src=\"assets/mage_pipeline.png\" alt=\"Alt text\" width=\"300\"/>"
   ]
  },
  {
   "cell_type": "markdown",
   "metadata": {},
   "source": [
    "## Q1. Run Mage\n",
    "\n",
    "First, let's run Mage with Docker Compose. Follow the quick start guideline. \n",
    "\n",
    "What's the version of Mage we run? \n",
    "\n",
    "(You can see it in the UI)"
   ]
  },
  {
   "cell_type": "markdown",
   "metadata": {},
   "source": [
    "![Alt text](assets/mage_version.png)"
   ]
  },
  {
   "cell_type": "markdown",
   "metadata": {},
   "source": [
    "## Q2. Creating a project\n",
    "\n",
    "Now let's create a new project. We can call it \"homework_03\", for example.\n",
    "\n",
    "How many lines are in the created `metadata.yaml` file? \n",
    "\n",
    "- 35\n",
    "- 45\n",
    "- 55\n",
    "- 65"
   ]
  },
  {
   "cell_type": "code",
   "execution_count": 1,
   "metadata": {},
   "outputs": [
    {
     "name": "stdout",
     "output_type": "stream",
     "text": [
      "      55 mlops/mlops/homework_03/metadata.yaml\n"
     ]
    }
   ],
   "source": [
    "!wc -l mlops/mlops/homework_03/metadata.yaml\n"
   ]
  },
  {
   "cell_type": "markdown",
   "metadata": {},
   "source": [
    "## Q3. Creating a pipeline\n",
    "\n",
    "Let's create an ingestion code block.\n",
    "\n",
    "In this block, we will read the March 2023 Yellow taxi trips data.\n",
    "\n",
    "How many records did we load? \n",
    "\n",
    "- 3,003,766\n",
    "- 3,203,766\n",
    "- 3,403,766\n",
    "- 3,603,766"
   ]
  },
  {
   "cell_type": "markdown",
   "metadata": {},
   "source": [
    "<img src=\"assets/num_records_ingest.png\" alt=\"Alt text\" width=\"600\"/>"
   ]
  },
  {
   "cell_type": "markdown",
   "metadata": {},
   "source": [
    "## Q4. Data preparation\n",
    "\n",
    "Let's use the same logic for preparing the data we used previously. We will need to create a transformer code block and put this code there.\n",
    "\n",
    "This is what we used (adjusted for yellow dataset):\n",
    "\n",
    "```python\n",
    "def read_dataframe(filename):\n",
    "    df = pd.read_parquet(filename)\n",
    "\n",
    "    df.tpep_dropoff_datetime = pd.to_datetime(df.tpep_dropoff_datetime)\n",
    "    df.tpep_pickup_datetime = pd.to_datetime(df.tpep_pickup_datetime)\n",
    "\n",
    "    df['duration'] = df.tpep_dropoff_datetime - df.tpep_pickup_datetime\n",
    "    df.duration = df.duration.dt.total_seconds() / 60\n",
    "\n",
    "    df = df[(df.duration >= 1) & (df.duration <= 60)]\n",
    "\n",
    "    categorical = ['PULocationID', 'DOLocationID']\n",
    "    df[categorical] = df[categorical].astype(str)\n",
    "    \n",
    "    return df\n",
    "```\n",
    "\n",
    "Let's adjust it and apply to the data we loaded in question 3. \n",
    "\n",
    "What's the size of the result? \n",
    "\n",
    "\n",
    "- 2,903,766\n",
    "- 3,103,766\n",
    "- 3,316,216 \n",
    "- 3,503,766"
   ]
  },
  {
   "cell_type": "markdown",
   "metadata": {},
   "source": [
    "<img src=\"assets/num_records_transform.png\" alt=\"Alt text\" width=\"600\"/>"
   ]
  },
  {
   "cell_type": "markdown",
   "metadata": {},
   "source": [
    "## Q5. Train a model\n",
    "\n",
    "We will now train a linear regression model using the same code as in homework 1\n",
    "\n",
    "* Fit a dict vectorizer\n",
    "* Train a linear regression with default parameres \n",
    "* Use pick up and drop off locations separately, don't create a combination feature\n",
    "\n",
    "Let's now use it in the pipeline. We will need to create another transformation block, and return both the dict vectorizer and the model\n",
    "\n",
    "What's the intercept of the model? \n",
    "\n",
    "Hint: print the `intercept_` field in the code block\n",
    "\n",
    "- 21.77\n",
    "- 24.77\n",
    "- 27.77\n",
    "- 31.77"
   ]
  },
  {
   "cell_type": "markdown",
   "metadata": {},
   "source": [
    "<img src=\"assets/intercept_train.png\" alt=\"Alt text\" width=\"600\"/>"
   ]
  },
  {
   "cell_type": "markdown",
   "metadata": {},
   "source": [
    "## Q6. Register the model\n",
    "\n",
    "The model is trained, so let's save it with MLFlow.\n",
    "\n",
    "If you run mage with docker-compose, stop it with Ctrl+C or \n",
    "\n",
    "```bash\n",
    "docker-compose down\n",
    "```\n",
    "\n",
    "Let's create a dockerfile for mlflow, e.g. `mlflow.dockerfile`:\n",
    "\n",
    "```dockerfile\n",
    "FROM python:3.10-slim\n",
    "\n",
    "RUN pip install mlflow==2.12.1\n",
    "\n",
    "EXPOSE 5000\n",
    "\n",
    "CMD [ \\\n",
    "    \"mlflow\", \"server\", \\\n",
    "    \"--backend-store-uri\", \"sqlite:///home/mlflow/mlflow.db\", \\\n",
    "    \"--host\", \"0.0.0.0\", \\\n",
    "    \"--port\", \"5000\" \\\n",
    "]\n",
    "```\n",
    "\n",
    "And add it to the docker-compose.yaml:\n",
    "\n",
    "```yaml\n",
    "  mlflow:\n",
    "    build:\n",
    "      context: .\n",
    "      dockerfile: mlflow.dockerfile\n",
    "    ports:\n",
    "      - \"5000:5000\"\n",
    "    volumes:\n",
    "      - \"${PWD}/mlflow:/home/mlflow/\"\n",
    "    networks:\n",
    "      - app-network\n",
    "```\n",
    "\n",
    "Note that `app-network` is the same network as for mage and postgre containers.\n",
    "If you use a different compose file, adjust it.\n",
    "\n",
    "We should already have `mlflow==2.12.1` in requirements.txt in the mage project we created for the module. If you're starting from scratch, add it to your requirements.\n",
    "\n",
    "Next, start the compose again and create a data exporter block.\n",
    "\n",
    "In the block, we\n",
    "\n",
    "* Log the model (linear regression)\n",
    "* Save and log the artifact (dict vectorizer)\n",
    "\n",
    "If you used the suggested docker-compose snippet, mlflow should be accessible at `http://localhost:5000`.\n",
    "\n",
    "Find the logged model, and find MLModel file. What's the size of the model? (`model_size_bytes` field):\n",
    "\n",
    "* 14,534\n",
    "* 9,534\n",
    "* 4,534\n",
    "* 1,534\n",
    "\n",
    "> Note: typically we do two last steps in one code block "
   ]
  },
  {
   "cell_type": "code",
   "execution_count": 4,
   "metadata": {},
   "outputs": [
    {
     "data": {
      "application/vnd.jupyter.widget-view+json": {
       "model_id": "933aa632ee35459092c2c6a131f9b3fb",
       "version_major": 2,
       "version_minor": 0
      },
      "text/plain": [
       "Downloading artifacts:   0%|          | 0/1 [00:00<?, ?it/s]"
      ]
     },
     "metadata": {},
     "output_type": "display_data"
    },
    {
     "name": "stdout",
     "output_type": "stream",
     "text": [
      "Model size in bytes: 4534\n"
     ]
    }
   ],
   "source": [
    "import mlflow\n",
    "from mlflow.tracking import MlflowClient\n",
    "\n",
    "mlflow.set_tracking_uri(\"http://localhost:5000\")\n",
    "experiment_name = \"TaxiTripDurationPrediction\"\n",
    "mlflow_client = MlflowClient()\n",
    "experiment = mlflow_client.get_experiment_by_name(experiment_name)\n",
    "experiment_id = experiment.experiment_id\n",
    "\n",
    "# Retrieve the latest run from the experiment\n",
    "runs = mlflow_client.search_runs(experiment_ids=[experiment_id], order_by=[\"start_time DESC\"], max_results=1)\n",
    "latest_run = runs[0] if runs else None\n",
    "run_id = latest_run.info.run_id\n",
    "\n",
    "# Load the MLmodel file and extract `model_size_bytes`\n",
    "mlmodel_path = \"linear_regression_model/MLmodel\"\n",
    "local_mlmodel_path = mlflow_client.download_artifacts(run_id, mlmodel_path)\n",
    "model_size_bytes = None\n",
    "with open(local_mlmodel_path, 'r') as f:\n",
    "    for line in f:\n",
    "        if \"model_size_bytes\" in line:\n",
    "            model_size_bytes = int(line.split(\":\")[1].strip().strip(','))\n",
    "\n",
    "print(f\"Model size in bytes: {model_size_bytes}\")\n"
   ]
  }
 ],
 "metadata": {
  "kernelspec": {
   "display_name": "mlops-zoomcamp",
   "language": "python",
   "name": "python3"
  },
  "language_info": {
   "codemirror_mode": {
    "name": "ipython",
    "version": 3
   },
   "file_extension": ".py",
   "mimetype": "text/x-python",
   "name": "python",
   "nbconvert_exporter": "python",
   "pygments_lexer": "ipython3",
   "version": "3.11.0"
  }
 },
 "nbformat": 4,
 "nbformat_minor": 2
}
