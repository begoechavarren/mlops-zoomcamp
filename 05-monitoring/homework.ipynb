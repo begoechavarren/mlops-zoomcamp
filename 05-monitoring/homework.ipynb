{
 "cells": [
  {
   "cell_type": "markdown",
   "metadata": {},
   "source": [
    "# 05-monitoring: Homework\n",
    "\n",
    "The goal of this homework is to familiarize users with monitoring for ML batch services, using PostgreSQL database to store metrics and Grafana to visualize them."
   ]
  },
  {
   "cell_type": "markdown",
   "metadata": {},
   "source": [
    "## Q1. Prepare the dataset\n",
    "\n",
    "Start with baseline_model_nyc_taxi_data.ipynb. Download the March 2024 Green Taxi data. We will use this data to simulate a production usage of a taxi trip duration prediction service.\n",
    "\n",
    "What is the shape of the downloaded data? How many rows are there?\n",
    "\n",
    "* 72044\n",
    "* 78537 \n",
    "* 57457\n",
    "* 54396"
   ]
  },
  {
   "cell_type": "markdown",
   "metadata": {},
   "source": [
    "57457 (see in `homework/baseline_model_nyc_taxi_data.pynb`)"
   ]
  },
  {
   "cell_type": "markdown",
   "metadata": {},
   "source": [
    "## Q2. Metric\n",
    "\n",
    "Let's expand the number of data quality metrics we’d like to monitor! Please add one metric of your choice and a quantile value for the `\"fare_amount\"` column (`quantile=0.5`).\n",
    "\n",
    "Hint: explore evidently metric `ColumnQuantileMetric` (from `evidently.metrics import ColumnQuantileMetric`) \n",
    "\n",
    "What metric did you choose?"
   ]
  },
  {
   "cell_type": "markdown",
   "metadata": {},
   "source": [
    "`ColumnCorrelationsMetric` to calculate the correlations between the defined column (`prediction`) and all the other columns in the dataset."
   ]
  },
  {
   "cell_type": "markdown",
   "metadata": {},
   "source": [
    "## Q3. Monitoring\n",
    "\n",
    "Let’s start monitoring. Run expanded monitoring for a new batch of data (March 2024). \n",
    "\n",
    "What is the maximum value of metric `quantile = 0.5` on the `\"fare_amount\"` column during March 2024 (calculated daily)?\n",
    "\n",
    "* 10\n",
    "* 12.5\n",
    "* 14.2\n",
    "* 14.8"
   ]
  },
  {
   "cell_type": "markdown",
   "metadata": {},
   "source": [
    "14.2"
   ]
  },
  {
   "cell_type": "code",
   "execution_count": 3,
   "metadata": {},
   "outputs": [
    {
     "name": "stdout",
     "output_type": "stream",
     "text": [
      "\u001b[1A\u001b[1B\u001b[0G\u001b[?25l[+] Building 0.0s (0/0)                                    docker:desktop-linux\n",
      "\u001b[?25h\u001b[1A\u001b[1B\u001b[0G\u001b[?25l[+] Running 1/0\n",
      " \u001b[32m✔\u001b[0m Network 05-monitoring_back-tier   \u001b[32mCreated\u001b[0m                               \u001b[34m0.0s \u001b[0m\n",
      " ⠋ Network 05-monitoring_front-tier  Creating                              \u001b[34m0.0s \u001b[0m\n",
      "\u001b[?25h\u001b[1A\u001b[1A\u001b[1A\u001b[0G\u001b[?25l[+] Running 4/2\n",
      " \u001b[32m✔\u001b[0m Network 05-monitoring_back-tier    \u001b[32mCreated\u001b[0m                              \u001b[34m0.0s \u001b[0m\n",
      " \u001b[32m✔\u001b[0m Network 05-monitoring_front-tier   \u001b[32mCreated\u001b[0m                              \u001b[34m0.0s \u001b[0m\n",
      " \u001b[32m✔\u001b[0m Container 05-monitoring-grafana-1  \u001b[32mCreated\u001b[0m                              \u001b[34m0.1s \u001b[0m\n",
      " \u001b[32m✔\u001b[0m Container 05-monitoring-db-1       \u001b[32mCr...\u001b[0m                                \u001b[34m0.1s \u001b[0m\n",
      " ⠋ Container 05-monitoring-adminer-1  Creating                             \u001b[34m0.1s \u001b[0m\n",
      "\u001b[?25h\u001b[1A\u001b[1A\u001b[1A\u001b[1A\u001b[1A\u001b[1A\u001b[0G\u001b[?25l\u001b[34m[+] Running 5/5\u001b[0m\n",
      " \u001b[32m✔\u001b[0m Network 05-monitoring_back-tier    \u001b[32mCreated\u001b[0m                              \u001b[34m0.0s \u001b[0m\n",
      " \u001b[32m✔\u001b[0m Network 05-monitoring_front-tier   \u001b[32mCreated\u001b[0m                              \u001b[34m0.0s \u001b[0m\n",
      " \u001b[32m✔\u001b[0m Container 05-monitoring-grafana-1  \u001b[32mCreated\u001b[0m                              \u001b[34m0.1s \u001b[0m\n",
      " \u001b[32m✔\u001b[0m Container 05-monitoring-db-1       \u001b[32mCr...\u001b[0m                                \u001b[34m0.1s \u001b[0m\n",
      " \u001b[32m✔\u001b[0m Container 05-monitoring-adminer-1  \u001b[32mCreated\u001b[0m                              \u001b[34m0.1s \u001b[0m\n",
      "\u001b[?25h\u001b[1A\u001b[1A\u001b[1A\u001b[1A\u001b[1A\u001b[1A\u001b[0G\u001b[?25l\u001b[34m[+] Running 5/5\u001b[0m\n",
      " \u001b[32m✔\u001b[0m Network 05-monitoring_back-tier    \u001b[32mCreated\u001b[0m                              \u001b[34m0.0s \u001b[0m\n",
      " \u001b[32m✔\u001b[0m Network 05-monitoring_front-tier   \u001b[32mCreated\u001b[0m                              \u001b[34m0.0s \u001b[0m\n",
      " \u001b[32m✔\u001b[0m Container 05-monitoring-grafana-1  \u001b[32mCreated\u001b[0m                              \u001b[34m0.1s \u001b[0m\n",
      " \u001b[32m✔\u001b[0m Container 05-monitoring-db-1       \u001b[32mCr...\u001b[0m                                \u001b[34m0.1s \u001b[0m\n",
      " \u001b[32m✔\u001b[0m Container 05-monitoring-adminer-1  \u001b[32mCreated\u001b[0m                              \u001b[34m0.1s \u001b[0m\n",
      "\u001b[?25h\u001b[1A\u001b[1A\u001b[1A\u001b[1A\u001b[1A\u001b[1A\u001b[0G\u001b[?25l\u001b[34m[+] Running 5/5\u001b[0m\n",
      " \u001b[32m✔\u001b[0m Network 05-monitoring_back-tier    \u001b[32mCreated\u001b[0m                              \u001b[34m0.0s \u001b[0m\n",
      " \u001b[32m✔\u001b[0m Network 05-monitoring_front-tier   \u001b[32mCreated\u001b[0m                              \u001b[34m0.0s \u001b[0m\n",
      " \u001b[32m✔\u001b[0m Container 05-monitoring-grafana-1  \u001b[32mCreated\u001b[0m                              \u001b[34m0.1s \u001b[0m\n",
      " \u001b[32m✔\u001b[0m Container 05-monitoring-db-1       \u001b[32mCr...\u001b[0m                                \u001b[34m0.1s \u001b[0m\n",
      " \u001b[32m✔\u001b[0m Container 05-monitoring-adminer-1  \u001b[32mCreated\u001b[0m                              \u001b[34m0.1s \u001b[0m\n",
      "\u001b[?25h\u001b[1A\u001b[1A\u001b[1A\u001b[1A\u001b[1A\u001b[1A\u001b[0G\u001b[?25l\u001b[34m[+] Running 5/5\u001b[0m\n",
      " \u001b[32m✔\u001b[0m Network 05-monitoring_back-tier    \u001b[32mCreated\u001b[0m                              \u001b[34m0.0s \u001b[0m\n",
      " \u001b[32m✔\u001b[0m Network 05-monitoring_front-tier   \u001b[32mCreated\u001b[0m                              \u001b[34m0.0s \u001b[0m\n",
      " \u001b[32m✔\u001b[0m Container 05-monitoring-grafana-1  \u001b[32mCreated\u001b[0m                              \u001b[34m0.1s \u001b[0m\n",
      " \u001b[32m✔\u001b[0m Container 05-monitoring-db-1       \u001b[32mCr...\u001b[0m                                \u001b[34m0.1s \u001b[0m\n",
      " \u001b[32m✔\u001b[0m Container 05-monitoring-adminer-1  \u001b[32mCreated\u001b[0m                              \u001b[34m0.1s \u001b[0m\n",
      "\u001b[?25h\u001b[1A\u001b[1A\u001b[1A\u001b[1A\u001b[1A\u001b[1A\u001b[0G\u001b[?25l\u001b[34m[+] Running 5/5\u001b[0m\n",
      " \u001b[32m✔\u001b[0m Network 05-monitoring_back-tier    \u001b[32mCreated\u001b[0m                              \u001b[34m0.0s \u001b[0m\n",
      " \u001b[32m✔\u001b[0m Network 05-monitoring_front-tier   \u001b[32mCreated\u001b[0m                              \u001b[34m0.0s \u001b[0m\n",
      " \u001b[32m✔\u001b[0m Container 05-monitoring-grafana-1  \u001b[32mCreated\u001b[0m                              \u001b[34m0.1s \u001b[0m\n",
      " \u001b[32m✔\u001b[0m Container 05-monitoring-db-1       \u001b[32mCr...\u001b[0m                                \u001b[34m0.1s \u001b[0m\n",
      " \u001b[32m✔\u001b[0m Container 05-monitoring-adminer-1  \u001b[32mCreated\u001b[0m                              \u001b[34m0.1s \u001b[0m\n",
      "\u001b[?25h\u001b[1A\u001b[1A\u001b[1A\u001b[1A\u001b[1A\u001b[1A\u001b[0G\u001b[?25l\u001b[34m[+] Running 5/5\u001b[0m\n",
      " \u001b[32m✔\u001b[0m Network 05-monitoring_back-tier    \u001b[32mCreated\u001b[0m                              \u001b[34m0.0s \u001b[0m\n",
      " \u001b[32m✔\u001b[0m Network 05-monitoring_front-tier   \u001b[32mCreated\u001b[0m                              \u001b[34m0.0s \u001b[0m\n",
      " \u001b[32m✔\u001b[0m Container 05-monitoring-grafana-1  \u001b[32mCreated\u001b[0m                              \u001b[34m0.1s \u001b[0m\n",
      " \u001b[32m✔\u001b[0m Container 05-monitoring-db-1       \u001b[32mSt...\u001b[0m                                \u001b[34m0.1s \u001b[0m\n",
      " \u001b[32m✔\u001b[0m Container 05-monitoring-adminer-1  \u001b[32mCreated\u001b[0m                              \u001b[34m0.1s \u001b[0m\n",
      "\u001b[?25h\u001b[1A\u001b[1A\u001b[1A\u001b[1A\u001b[1A\u001b[1A\u001b[0G\u001b[?25l\u001b[34m[+] Running 5/5\u001b[0m\n",
      " \u001b[32m✔\u001b[0m Network 05-monitoring_back-tier    \u001b[32mCreated\u001b[0m                              \u001b[34m0.0s \u001b[0m\n",
      " \u001b[32m✔\u001b[0m Network 05-monitoring_front-tier   \u001b[32mCreated\u001b[0m                              \u001b[34m0.0s \u001b[0m\n",
      " \u001b[32m✔\u001b[0m Container 05-monitoring-grafana-1  \u001b[32mCreated\u001b[0m                              \u001b[34m0.1s \u001b[0m\n",
      " \u001b[32m✔\u001b[0m Container 05-monitoring-db-1       \u001b[32mSt...\u001b[0m                                \u001b[34m0.1s \u001b[0m\n",
      " \u001b[32m✔\u001b[0m Container 05-monitoring-adminer-1  \u001b[32mCreated\u001b[0m                              \u001b[34m0.1s \u001b[0m\n",
      "\u001b[?25h\u001b[1A\u001b[1A\u001b[1A\u001b[1A\u001b[1A\u001b[1A\u001b[0G\u001b[?25l\u001b[34m[+] Running 5/5\u001b[0m\n",
      " \u001b[32m✔\u001b[0m Network 05-monitoring_back-tier    \u001b[32mCreated\u001b[0m                              \u001b[34m0.0s \u001b[0m\n",
      " \u001b[32m✔\u001b[0m Network 05-monitoring_front-tier   \u001b[32mCreated\u001b[0m                              \u001b[34m0.0s \u001b[0m\n",
      " \u001b[32m✔\u001b[0m Container 05-monitoring-grafana-1  \u001b[32mCreated\u001b[0m                              \u001b[34m0.1s \u001b[0m\n",
      " \u001b[32m✔\u001b[0m Container 05-monitoring-db-1       \u001b[32mSt...\u001b[0m                                \u001b[34m0.1s \u001b[0m\n",
      " \u001b[32m✔\u001b[0m Container 05-monitoring-adminer-1  \u001b[32mStarted\u001b[0m                              \u001b[34m0.1s \u001b[0m\n",
      "\u001b[?25h\u001b[1A\u001b[1A\u001b[1A\u001b[1A\u001b[1A\u001b[1A\u001b[0G\u001b[?25l\u001b[34m[+] Running 5/5\u001b[0m\n",
      " \u001b[32m✔\u001b[0m Network 05-monitoring_back-tier    \u001b[32mCreated\u001b[0m                              \u001b[34m0.0s \u001b[0m\n",
      " \u001b[32m✔\u001b[0m Network 05-monitoring_front-tier   \u001b[32mCreated\u001b[0m                              \u001b[34m0.0s \u001b[0m\n",
      " \u001b[32m✔\u001b[0m Container 05-monitoring-grafana-1  \u001b[32mStarted\u001b[0m                              \u001b[34m0.1s \u001b[0m\n",
      " \u001b[32m✔\u001b[0m Container 05-monitoring-db-1       \u001b[32mSt...\u001b[0m                                \u001b[34m0.1s \u001b[0m\n",
      " \u001b[32m✔\u001b[0m Container 05-monitoring-adminer-1  \u001b[32mStarted\u001b[0m                              \u001b[34m0.1s \u001b[0m\n",
      "\u001b[?25h"
     ]
    }
   ],
   "source": [
    "!docker-compose up --build -d"
   ]
  },
  {
   "cell_type": "code",
   "execution_count": 9,
   "metadata": {},
   "outputs": [
    {
     "name": "stdout",
     "output_type": "stream",
     "text": [
      "2024-06-24 13:24:34,519 [INFO]: data sent\n",
      "2024-06-24 13:24:53,297 [INFO]: data sent\n",
      "2024-06-24 13:24:54,417 [INFO]: data sent\n",
      "2024-06-24 13:25:13,297 [INFO]: data sent\n",
      "2024-06-24 13:25:14,515 [INFO]: data sent\n",
      "2024-06-24 13:25:33,298 [INFO]: data sent\n",
      "2024-06-24 13:25:34,554 [INFO]: data sent\n",
      "2024-06-24 13:25:53,297 [INFO]: data sent\n",
      "2024-06-24 13:25:54,472 [INFO]: data sent\n",
      "2024-06-24 13:26:13,293 [INFO]: data sent\n",
      "2024-06-24 13:26:14,500 [INFO]: data sent\n",
      "2024-06-24 13:26:33,296 [INFO]: data sent\n",
      "2024-06-24 13:26:34,528 [INFO]: data sent\n",
      "2024-06-24 13:26:53,297 [INFO]: data sent\n",
      "2024-06-24 13:26:54,619 [INFO]: data sent\n",
      "2024-06-24 13:27:13,297 [INFO]: data sent\n",
      "2024-06-24 13:27:14,508 [INFO]: data sent\n",
      "2024-06-24 13:27:33,295 [INFO]: data sent\n",
      "2024-06-24 13:27:34,630 [INFO]: data sent\n",
      "2024-06-24 13:27:53,298 [INFO]: data sent\n",
      "2024-06-24 13:27:54,623 [INFO]: data sent\n",
      "2024-06-24 13:28:13,297 [INFO]: data sent\n",
      "2024-06-24 13:28:14,539 [INFO]: data sent\n",
      "2024-06-24 13:28:33,295 [INFO]: data sent\n",
      "2024-06-24 13:28:34,597 [INFO]: data sent\n",
      "2024-06-24 13:28:53,297 [INFO]: data sent\n",
      "2024-06-24 13:28:54,501 [INFO]: data sent\n",
      "\u001b[0m"
     ]
    }
   ],
   "source": [
    "!python evidently_metrics_calculation.py"
   ]
  },
  {
   "cell_type": "markdown",
   "metadata": {},
   "source": [
    "http://localhost:8080/?pgsql=db&username=postgres&db=test&ns=public&sql=SELECT%0A%20%20MAX(median_fare_amount)%0AFROM%20%22dummy_metrics%22%0A\n",
    "<img src=\"assets/median_fare_amount.png\" alt=\"Alt text\" width=\"600\"/>"
   ]
  },
  {
   "cell_type": "markdown",
   "metadata": {},
   "source": [
    "## Q4. Dashboard\n",
    "\n",
    "\n",
    "Finally, let’s add panels with new added metrics to the dashboard. After we customize the  dashboard let's save a dashboard config, so that we can access it later. Hint: click on “Save dashboard” to access JSON configuration of the dashboard. This configuration should be saved locally.\n",
    "\n",
    "Where to place a dashboard config file?\n",
    "\n",
    "* `project_folder` (05-monitoring)\n",
    "* `project_folder/config`  (05-monitoring/config)\n",
    "* `project_folder/dashboards`  (05-monitoring/dashboards)\n",
    "* `project_folder/data`  (05-monitoring/data)"
   ]
  },
  {
   "cell_type": "markdown",
   "metadata": {},
   "source": [
    "`project_folder/dashboards`\n",
    "\n",
    "http://localhost:3000/d/NPXSRpQ4z/metrics?orgId=1\n",
    "\n",
    "<img src=\"assets/graphana.png\" alt=\"Alt text\" width=\"600\"/>"
   ]
  },
  {
   "cell_type": "code",
   "execution_count": 10,
   "metadata": {},
   "outputs": [
    {
     "name": "stdout",
     "output_type": "stream",
     "text": [
      "metrics.json\n"
     ]
    }
   ],
   "source": [
    "!ls ./dashboards"
   ]
  }
 ],
 "metadata": {
  "kernelspec": {
   "display_name": "mlops-zoomcamp",
   "language": "python",
   "name": "python3"
  },
  "language_info": {
   "codemirror_mode": {
    "name": "ipython",
    "version": 3
   },
   "file_extension": ".py",
   "mimetype": "text/x-python",
   "name": "python",
   "nbconvert_exporter": "python",
   "pygments_lexer": "ipython3",
   "version": "3.11.0"
  }
 },
 "nbformat": 4,
 "nbformat_minor": 2
}
